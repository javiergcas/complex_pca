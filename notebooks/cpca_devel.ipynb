{
 "cells": [
  {
   "cell_type": "code",
   "execution_count": 1,
   "id": "23e7595a-8d55-4c2e-b82f-81ff4d6f158d",
   "metadata": {},
   "outputs": [],
   "source": [
    "input_files = '/data/SFIMJGC_Introspec/cpca_vs_introspec/spring_2024/data/cpca/JAVIER_POST_SFN2024/cpca_input_files_SUBJ_AWARE.denoise.b0.txt'\n",
    "file_format = 'nifti'\n",
    "n_comps     = 3260\n",
    "mask_fp     = '/data/SFIMJGC_Introspec/pdn/PrcsData/cpca/Schaefer2018_400Parcels_7Networks_AAL2.MASK.nii.gz'\n",
    "out_prefix  = 'A1'\n",
    "pca_type    = 'complex'\n",
    "rotate      = None\n",
    "recon       = False\n",
    "normalize   = 'zscore'\n",
    "bandpass    = False\n",
    "low_cut     = 0.01\n",
    "high_cut    = 0.1\n",
    "tr          = None\n",
    "n_bins      = 30\n",
    "verbose     = True"
   ]
  },
  {
   "cell_type": "code",
   "execution_count": 2,
   "id": "c7c67358-144e-4b0c-adc6-2ab7a8f7e7f3",
   "metadata": {},
   "outputs": [],
   "source": [
    "from utils.load_write import load_data, write_out\n",
    "from scipy.signal import hilbert\n",
    "import fbpca\n",
    "import numpy as np"
   ]
  },
  {
   "cell_type": "code",
   "execution_count": 3,
   "id": "33e577cf-4f51-4ef1-aa16-ed46abb9377a",
   "metadata": {},
   "outputs": [],
   "source": [
    "def hilbert_transform(input_data, verbose):\n",
    "    if verbose:\n",
    "        print('applying hilbert transform')\n",
    "    # hilbert transform\n",
    "    input_data = hilbert(input_data, axis=0)\n",
    "    return input_data.conj()"
   ]
  },
  {
   "cell_type": "code",
   "execution_count": 4,
   "id": "699465fa-da41-4dac-b4a0-35db79d0422e",
   "metadata": {},
   "outputs": [],
   "source": [
    "def pca(input_data, n_comps, verbose, n_iter=10):\n",
    "    # compute pca\n",
    "    print('performing PCA/CPCA')\n",
    "    # get number of observations\n",
    "    n_samples = input_data.shape[0]\n",
    "    print(' number of samples = %d' % n_samples)\n",
    "    print(' input_data.shape[1] = %d' % input_data.shape[1])\n",
    "    #matrix_rank = np.linalg.matrix_rank(input_data)\n",
    "    #print(' rank of input matrix = % s' % str(matrix_rank))\n",
    "    # fbpca pca\n",
    "    (U, s, Va) = fbpca.pca(input_data, k=n_comps, n_iter=n_iter)\n",
    "    # calc explained variance\n",
    "    explained_variance_ = ((s ** 2) / (n_samples - 1)) / input_data.shape[1]\n",
    "    total_var = explained_variance_.sum()\n",
    "    # compute PC scores\n",
    "    pc_scores = input_data @ Va.T\n",
    "    # get loadings from eigenvectors\n",
    "    loadings =  Va.T @ np.diag(s)\n",
    "    loadings /= np.sqrt(input_data.shape[0]-1)\n",
    "    # package outputs\n",
    "    output_dict = {'U': U,\n",
    "                   's': s,\n",
    "                   'Va': Va,\n",
    "                   'loadings': loadings.T,\n",
    "                   'exp_var': explained_variance_,\n",
    "                   'pc_scores': pc_scores,\n",
    "                   'n_samples': n_samples,\n",
    "                   'n_positions': input_data.shape[1],\n",
    "                   'total_var': total_var}\n",
    "    return output_dict"
   ]
  },
  {
   "cell_type": "markdown",
   "id": "d235450c-7624-478f-8092-0ab4cffaa302",
   "metadata": {},
   "source": [
    "***\n",
    "### Load the Original Data"
   ]
  },
  {
   "cell_type": "code",
   "execution_count": 5,
   "id": "2cd34963-45d1-428b-b346-709c373cd719",
   "metadata": {},
   "outputs": [
    {
     "name": "stdout",
     "output_type": "stream",
     "text": [
      "initializing matrix of size (3260, 122767)\n",
      "loading and concatenating 5 scans\n"
     ]
    }
   ],
   "source": [
    "func_data, mask, header = load_data(\n",
    "        input_files, file_format, mask_fp, normalize,\n",
    "        bandpass, low_cut, high_cut, tr, verbose\n",
    "    )"
   ]
  },
  {
   "cell_type": "code",
   "execution_count": 6,
   "id": "a049284b-8525-4bf2-97e3-07cf669da446",
   "metadata": {},
   "outputs": [
    {
     "name": "stdout",
     "output_type": "stream",
     "text": [
      "(3260, 122767)\n"
     ]
    }
   ],
   "source": [
    "print(func_data.shape)"
   ]
  },
  {
   "cell_type": "code",
   "execution_count": 7,
   "id": "17c19249-c8f4-458b-be2d-af52acbfa4f5",
   "metadata": {},
   "outputs": [],
   "source": [
    "write_out(func_data,mask,header,'nifti','/data/SFIMJGC_Introspec/cpca_vs_introspec/spring_2024/data/cpca/JAVIER_POST_SFN2024/ORIG')"
   ]
  },
  {
   "cell_type": "markdown",
   "id": "d93f61df-53e7-450d-bf7f-7df89229ffa3",
   "metadata": {},
   "source": [
    "***\n",
    "\n",
    "### Apply Hilbert Transform --> obtain analytical signal"
   ]
  },
  {
   "cell_type": "code",
   "execution_count": 8,
   "id": "09efbcef-2dc7-4f7f-95e6-177e110aae53",
   "metadata": {},
   "outputs": [
    {
     "name": "stdout",
     "output_type": "stream",
     "text": [
      "applying hilbert transform\n"
     ]
    }
   ],
   "source": [
    "# if pca_type is complex, compute hilbert transform\n",
    "if pca_type == 'complex':\n",
    "    func_data = hilbert_transform(func_data, verbose)"
   ]
  },
  {
   "cell_type": "code",
   "execution_count": 9,
   "id": "e5294ef1-baf1-42ae-8eb1-33076199cacd",
   "metadata": {},
   "outputs": [
    {
     "data": {
      "text/plain": [
       "(3260, 122767)"
      ]
     },
     "execution_count": 9,
     "metadata": {},
     "output_type": "execute_result"
    }
   ],
   "source": [
    "func_data.shape"
   ]
  },
  {
   "cell_type": "markdown",
   "id": "c5c143f8-6b1c-40d3-b78d-397a39b39ac0",
   "metadata": {},
   "source": [
    "***\n",
    "\n",
    "### Apply PCA"
   ]
  },
  {
   "cell_type": "code",
   "execution_count": 10,
   "id": "e1ba7b70-9b22-4e48-8505-ab06cbb60e21",
   "metadata": {},
   "outputs": [
    {
     "name": "stdout",
     "output_type": "stream",
     "text": [
      "performing PCA/CPCA\n",
      " number of samples = 3260\n",
      " input_data.shape[1] = 122767\n"
     ]
    }
   ],
   "source": [
    "pca_output = pca(func_data, n_comps, verbose)"
   ]
  },
  {
   "cell_type": "code",
   "execution_count": 11,
   "id": "338607a1-4cc8-49a2-a705-4d7245202ae8",
   "metadata": {},
   "outputs": [
    {
     "data": {
      "text/plain": [
       "((3260, 3260), (3260,), (3260, 122767))"
      ]
     },
     "execution_count": 11,
     "metadata": {},
     "output_type": "execute_result"
    }
   ],
   "source": [
    "pca_output['U'].shape, pca_output['s'].shape, pca_output['Va'].shape"
   ]
  },
  {
   "cell_type": "markdown",
   "id": "9e120bcc-e14c-45e9-8f27-cbbbfe575c0b",
   "metadata": {},
   "source": [
    "***\n",
    "### Remove Components"
   ]
  },
  {
   "cell_type": "code",
   "execution_count": 12,
   "id": "a0c4b0a3-f25a-45fd-a1fb-1adc98722ef4",
   "metadata": {},
   "outputs": [],
   "source": [
    "pca_output['s_mod'] = pca_output['s'].copy()"
   ]
  },
  {
   "cell_type": "code",
   "execution_count": 13,
   "id": "53ca3ef0-6cdf-4022-a685-1b176058f7f8",
   "metadata": {},
   "outputs": [],
   "source": [
    "pca_output['s_mod'][:3] = 0"
   ]
  },
  {
   "cell_type": "markdown",
   "id": "3712a3c7-3bb3-4f4d-966b-9ecd96123fba",
   "metadata": {},
   "source": [
    "***\n",
    "### Reconstruct the data"
   ]
  },
  {
   "cell_type": "code",
   "execution_count": 14,
   "id": "f209406b-c28d-470e-a772-9801798061d4",
   "metadata": {},
   "outputs": [],
   "source": [
    "func_data_mod_reconstructed = np.dot(pca_output['U'] * pca_output['s_mod'], pca_output['Va'])"
   ]
  },
  {
   "cell_type": "code",
   "execution_count": 15,
   "id": "469b0f5b-ed43-4b77-abe3-b2d906a092a4",
   "metadata": {},
   "outputs": [],
   "source": [
    "func_data_modified = np.real(func_data_mod_reconstructed)"
   ]
  },
  {
   "cell_type": "code",
   "execution_count": 16,
   "id": "62afbfaa-f733-44a2-abbe-da53af9ee1c9",
   "metadata": {},
   "outputs": [
    {
     "data": {
      "text/plain": [
       "array([[-4.08930025e-14,  2.49407012e-14,  3.17258923e-14, ...,\n",
       "         0.00000000e+00,  4.27470732e-02,  0.00000000e+00],\n",
       "       [ 1.06886709e-13,  4.12176498e-14,  4.84417944e-14, ...,\n",
       "         0.00000000e+00, -2.46599703e-02,  0.00000000e+00],\n",
       "       [-3.61867827e-14, -6.14628260e-14, -8.21240862e-15, ...,\n",
       "         0.00000000e+00, -7.14048055e-02,  0.00000000e+00],\n",
       "       ...,\n",
       "       [ 4.11187276e-14, -1.50444896e-13,  1.22669481e-14, ...,\n",
       "         0.00000000e+00, -9.09199494e-01,  0.00000000e+00],\n",
       "       [ 1.45857796e-14, -9.76858223e-14, -2.39312872e-14, ...,\n",
       "         0.00000000e+00, -7.04478752e-01,  0.00000000e+00],\n",
       "       [ 7.01746098e-14, -4.18684331e-14,  2.98126921e-14, ...,\n",
       "         0.00000000e+00, -1.93273426e-01,  0.00000000e+00]])"
      ]
     },
     "execution_count": 16,
     "metadata": {},
     "output_type": "execute_result"
    }
   ],
   "source": [
    "func_data_modified"
   ]
  },
  {
   "cell_type": "code",
   "execution_count": 17,
   "id": "07edeca7-e0e7-4974-b7d6-24422ddef6b2",
   "metadata": {},
   "outputs": [],
   "source": [
    "write_out(func_data_modified,mask,header,'nifti','/data/SFIMJGC_Introspec/cpca_vs_introspec/spring_2024/data/cpca/JAVIER_POST_SFN2024/RECON_3OUT.nii')"
   ]
  },
  {
   "cell_type": "code",
   "execution_count": null,
   "id": "31d4e7d8-8b10-408b-9e87-d86c71c8e4d0",
   "metadata": {},
   "outputs": [],
   "source": []
  }
 ],
 "metadata": {
  "kernelspec": {
   "display_name": "BOLD WAVES 2024a",
   "language": "python",
   "name": "bold_waves_2024a"
  },
  "language_info": {
   "codemirror_mode": {
    "name": "ipython",
    "version": 3
   },
   "file_extension": ".py",
   "mimetype": "text/x-python",
   "name": "python",
   "nbconvert_exporter": "python",
   "pygments_lexer": "ipython3",
   "version": "3.9.19"
  }
 },
 "nbformat": 4,
 "nbformat_minor": 5
}
